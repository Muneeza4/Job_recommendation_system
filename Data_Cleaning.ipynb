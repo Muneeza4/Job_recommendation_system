{
 "cells": [
  {
   "cell_type": "code",
   "execution_count": 1,
   "id": "c77125dd-c594-4bd0-8190-baeb2d3f24f8",
   "metadata": {},
   "outputs": [],
   "source": [
    "import numpy as np\n",
    "import pandas as pd \n",
    "\n",
    "import missingno as mis\n",
    "\n",
    "import warnings\n",
    "warnings.filterwarnings(\"ignore\", category=DeprecationWarning)"
   ]
  },
  {
   "cell_type": "code",
   "execution_count": 2,
   "id": "7f4880bf-58f5-438e-bb17-b6da00b72111",
   "metadata": {},
   "outputs": [
    {
     "data": {
      "text/html": [
       "<div>\n",
       "<style scoped>\n",
       "    .dataframe tbody tr th:only-of-type {\n",
       "        vertical-align: middle;\n",
       "    }\n",
       "\n",
       "    .dataframe tbody tr th {\n",
       "        vertical-align: top;\n",
       "    }\n",
       "\n",
       "    .dataframe thead th {\n",
       "        text-align: right;\n",
       "    }\n",
       "</style>\n",
       "<table border=\"1\" class=\"dataframe\">\n",
       "  <thead>\n",
       "    <tr style=\"text-align: right;\">\n",
       "      <th></th>\n",
       "      <th>Uniq Id</th>\n",
       "      <th>Crawl Timestamp</th>\n",
       "      <th>Job Title</th>\n",
       "      <th>Job Salary</th>\n",
       "      <th>Job Experience Required</th>\n",
       "      <th>Key Skills</th>\n",
       "      <th>Role Category</th>\n",
       "      <th>Location</th>\n",
       "      <th>Functional Area</th>\n",
       "      <th>Industry</th>\n",
       "      <th>Role</th>\n",
       "      <th>Qualifications</th>\n",
       "    </tr>\n",
       "  </thead>\n",
       "  <tbody>\n",
       "    <tr>\n",
       "      <th>0</th>\n",
       "      <td>9be62c49a0b7ebe982a4af1edaa7bc5f</td>\n",
       "      <td>2019-07-05 01:46:07 +0000</td>\n",
       "      <td>Digital Media Planner</td>\n",
       "      <td>$59K-$99K</td>\n",
       "      <td>5 - 10 yrs</td>\n",
       "      <td>Media Planning| Digital Media</td>\n",
       "      <td>Advertising</td>\n",
       "      <td>Mumbai</td>\n",
       "      <td>Marketing , Advertising , MR , PR , Media Plan...</td>\n",
       "      <td>Advertising, PR, MR, Event Management</td>\n",
       "      <td>Media Planning Executive/Manager</td>\n",
       "      <td>M.Tech</td>\n",
       "    </tr>\n",
       "    <tr>\n",
       "      <th>1</th>\n",
       "      <td>3c52d436e39f596b22519da2612f6a56</td>\n",
       "      <td>2019-07-06 08:04:50 +0000</td>\n",
       "      <td>Online Bidding Executive</td>\n",
       "      <td>$56K-$116K</td>\n",
       "      <td>2 - 5 yrs</td>\n",
       "      <td>pre sales| closing| software knowledge| clien...</td>\n",
       "      <td>Retail Sales</td>\n",
       "      <td>Pune,Pune</td>\n",
       "      <td>Sales , Retail , Business Development</td>\n",
       "      <td>IT-Software, Software Services</td>\n",
       "      <td>Sales Executive/Officer</td>\n",
       "      <td>BCA</td>\n",
       "    </tr>\n",
       "  </tbody>\n",
       "</table>\n",
       "</div>"
      ],
      "text/plain": [
       "                            Uniq Id            Crawl Timestamp  \\\n",
       "0  9be62c49a0b7ebe982a4af1edaa7bc5f  2019-07-05 01:46:07 +0000   \n",
       "1  3c52d436e39f596b22519da2612f6a56  2019-07-06 08:04:50 +0000   \n",
       "\n",
       "                   Job Title  Job Salary Job Experience Required  \\\n",
       "0      Digital Media Planner   $59K-$99K              5 - 10 yrs   \n",
       "1   Online Bidding Executive  $56K-$116K               2 - 5 yrs   \n",
       "\n",
       "                                          Key Skills Role Category   Location  \\\n",
       "0                      Media Planning| Digital Media   Advertising     Mumbai   \n",
       "1   pre sales| closing| software knowledge| clien...  Retail Sales  Pune,Pune   \n",
       "\n",
       "                                     Functional Area  \\\n",
       "0  Marketing , Advertising , MR , PR , Media Plan...   \n",
       "1              Sales , Retail , Business Development   \n",
       "\n",
       "                                Industry                              Role  \\\n",
       "0  Advertising, PR, MR, Event Management  Media Planning Executive/Manager   \n",
       "1         IT-Software, Software Services           Sales Executive/Officer   \n",
       "\n",
       "  Qualifications  \n",
       "0         M.Tech  \n",
       "1            BCA  "
      ]
     },
     "execution_count": 2,
     "metadata": {},
     "output_type": "execute_result"
    }
   ],
   "source": [
    "data = pd.read_csv(\"marketing_sample_for_naukri_com-jobs__20190701_20190830__30k_data.csv\")\n",
    "data.head(2)\n"
   ]
  },
  {
   "cell_type": "code",
   "execution_count": 3,
   "id": "926f7895-dc66-4ba6-821a-d9c0dd692ed5",
   "metadata": {},
   "outputs": [
    {
     "name": "stdout",
     "output_type": "stream",
     "text": [
      "<class 'pandas.core.frame.DataFrame'>\n",
      "RangeIndex: 30000 entries, 0 to 29999\n",
      "Data columns (total 12 columns):\n",
      " #   Column                   Non-Null Count  Dtype \n",
      "---  ------                   --------------  ----- \n",
      " 0   Uniq Id                  30000 non-null  object\n",
      " 1   Crawl Timestamp          30000 non-null  object\n",
      " 2   Job Title                29425 non-null  object\n",
      " 3   Job Salary               30000 non-null  object\n",
      " 4   Job Experience Required  30000 non-null  object\n",
      " 5   Key Skills               28729 non-null  object\n",
      " 6   Role Category            27695 non-null  object\n",
      " 7   Location                 29423 non-null  object\n",
      " 8   Functional Area          29427 non-null  object\n",
      " 9   Industry                 29427 non-null  object\n",
      " 10  Role                     29099 non-null  object\n",
      " 11  Qualifications           30000 non-null  object\n",
      "dtypes: object(12)\n",
      "memory usage: 2.7+ MB\n"
     ]
    }
   ],
   "source": [
    "data.info()"
   ]
  },
  {
   "cell_type": "code",
   "execution_count": 4,
   "id": "1e7f708d-65b8-4aa5-b316-eb9e90c1762b",
   "metadata": {
    "scrolled": true
   },
   "outputs": [
    {
     "data": {
      "text/html": [
       "<div>\n",
       "<style scoped>\n",
       "    .dataframe tbody tr th:only-of-type {\n",
       "        vertical-align: middle;\n",
       "    }\n",
       "\n",
       "    .dataframe tbody tr th {\n",
       "        vertical-align: top;\n",
       "    }\n",
       "\n",
       "    .dataframe thead th {\n",
       "        text-align: right;\n",
       "    }\n",
       "</style>\n",
       "<table border=\"1\" class=\"dataframe\">\n",
       "  <thead>\n",
       "    <tr style=\"text-align: right;\">\n",
       "      <th></th>\n",
       "      <th>Uniq Id</th>\n",
       "      <th>Crawl Timestamp</th>\n",
       "      <th>Job Title</th>\n",
       "      <th>Job Salary</th>\n",
       "      <th>Job Experience Required</th>\n",
       "      <th>Key Skills</th>\n",
       "      <th>Role Category</th>\n",
       "      <th>Location</th>\n",
       "      <th>Functional Area</th>\n",
       "      <th>Industry</th>\n",
       "      <th>Role</th>\n",
       "      <th>Qualifications</th>\n",
       "    </tr>\n",
       "  </thead>\n",
       "  <tbody>\n",
       "    <tr>\n",
       "      <th>count</th>\n",
       "      <td>30000</td>\n",
       "      <td>30000</td>\n",
       "      <td>29425</td>\n",
       "      <td>30000</td>\n",
       "      <td>30000</td>\n",
       "      <td>28729</td>\n",
       "      <td>27695</td>\n",
       "      <td>29423</td>\n",
       "      <td>29427</td>\n",
       "      <td>29427</td>\n",
       "      <td>29099</td>\n",
       "      <td>30000</td>\n",
       "    </tr>\n",
       "    <tr>\n",
       "      <th>unique</th>\n",
       "      <td>30000</td>\n",
       "      <td>28865</td>\n",
       "      <td>23884</td>\n",
       "      <td>561</td>\n",
       "      <td>246</td>\n",
       "      <td>26909</td>\n",
       "      <td>206</td>\n",
       "      <td>2573</td>\n",
       "      <td>72</td>\n",
       "      <td>122</td>\n",
       "      <td>649</td>\n",
       "      <td>10</td>\n",
       "    </tr>\n",
       "    <tr>\n",
       "      <th>top</th>\n",
       "      <td>2b2ece7ba268973772dbcd2cb1ae9239</td>\n",
       "      <td>2019-08-04 02:01:21 +0000</td>\n",
       "      <td>Business Development Executive</td>\n",
       "      <td>$57K-$82K</td>\n",
       "      <td>2 - 5 yrs</td>\n",
       "      <td>Counselor| Mentor| Trainer| Advisor| Teaching</td>\n",
       "      <td>Programming &amp; Design</td>\n",
       "      <td>Bengaluru</td>\n",
       "      <td>IT Software - Application Programming , Mainte...</td>\n",
       "      <td>IT-Software, Software Services</td>\n",
       "      <td>Software Developer</td>\n",
       "      <td>B.Tech</td>\n",
       "    </tr>\n",
       "    <tr>\n",
       "      <th>freq</th>\n",
       "      <td>1</td>\n",
       "      <td>5</td>\n",
       "      <td>120</td>\n",
       "      <td>78</td>\n",
       "      <td>2084</td>\n",
       "      <td>102</td>\n",
       "      <td>8551</td>\n",
       "      <td>4986</td>\n",
       "      <td>7400</td>\n",
       "      <td>10012</td>\n",
       "      <td>6396</td>\n",
       "      <td>3151</td>\n",
       "    </tr>\n",
       "  </tbody>\n",
       "</table>\n",
       "</div>"
      ],
      "text/plain": [
       "                                 Uniq Id            Crawl Timestamp  \\\n",
       "count                              30000                      30000   \n",
       "unique                             30000                      28865   \n",
       "top     2b2ece7ba268973772dbcd2cb1ae9239  2019-08-04 02:01:21 +0000   \n",
       "freq                                   1                          5   \n",
       "\n",
       "                              Job Title Job Salary Job Experience Required  \\\n",
       "count                             29425      30000                   30000   \n",
       "unique                            23884        561                     246   \n",
       "top      Business Development Executive  $57K-$82K               2 - 5 yrs   \n",
       "freq                                120         78                    2084   \n",
       "\n",
       "                                            Key Skills         Role Category  \\\n",
       "count                                            28729                 27695   \n",
       "unique                                           26909                   206   \n",
       "top      Counselor| Mentor| Trainer| Advisor| Teaching  Programming & Design   \n",
       "freq                                               102                  8551   \n",
       "\n",
       "         Location                                    Functional Area  \\\n",
       "count       29423                                              29427   \n",
       "unique       2573                                                 72   \n",
       "top     Bengaluru  IT Software - Application Programming , Mainte...   \n",
       "freq         4986                                               7400   \n",
       "\n",
       "                              Industry                Role Qualifications  \n",
       "count                            29427               29099          30000  \n",
       "unique                             122                 649             10  \n",
       "top     IT-Software, Software Services  Software Developer         B.Tech  \n",
       "freq                             10012                6396           3151  "
      ]
     },
     "execution_count": 4,
     "metadata": {},
     "output_type": "execute_result"
    }
   ],
   "source": [
    "data.describe()\n"
   ]
  },
  {
   "cell_type": "code",
   "execution_count": 5,
   "id": "180fc6b1-1aae-4756-986f-802b84333a79",
   "metadata": {},
   "outputs": [
    {
     "data": {
      "text/plain": [
       "<Axes: >"
      ]
     },
     "execution_count": 5,
     "metadata": {},
     "output_type": "execute_result"
    },
    {
     "data": {
      "image/png": "[encoded data removed]",
      "text/plain": [
       "<Figure size 1100x600 with 1 Axes>"
      ]
     },
     "metadata": {},
     "output_type": "display_data"
    }
   ],
   "source": [
    "mis.matrix(data, figsize=(11,6), fontsize=15, color=(1, 0.42, 0.5), sparkline=False)\n"
   ]
  },
  {
   "cell_type": "code",
   "execution_count": 6,
   "id": "94f6dcbb-d810-4423-9e1d-b76e32140531",
   "metadata": {},
   "outputs": [],
   "source": [
    "data = data.dropna()\n"
   ]
  },
  {
   "cell_type": "code",
   "execution_count": 7,
   "id": "e330c267-f385-471a-aab3-59284b6d345a",
   "metadata": {},
   "outputs": [
    {
     "name": "stdout",
     "output_type": "stream",
     "text": [
      "Total duplicates: 0\n"
     ]
    }
   ],
   "source": [
    "duplicate_count = data.duplicated(subset='Uniq Id').sum()\n",
    "print(f\"Total duplicates: {duplicate_count}\")\n"
   ]
  },
  {
   "cell_type": "code",
   "execution_count": 8,
   "id": "27bece33-7df8-4338-b8e5-5cacdf34273f",
   "metadata": {},
   "outputs": [],
   "source": [
    "\n",
    "data[['Min Salary', 'Max Salary']] = data['Job Salary'].str.extract(r'\\$?(\\d+)[kK]-\\$?(\\d+)[kK]')\n",
    "\n",
    "data['Min Salary'] = pd.to_numeric(data['Min Salary']) * 1000\n",
    "data['Max Salary'] = pd.to_numeric(data['Max Salary']) * 1000\n",
    "\n",
    "data['Average Salary'] = (data['Min Salary'] + data['Max Salary']) / 2\n",
    "\n",
    "data['Average Salary'] = data['Average Salary'].astype(int)\n",
    "\n"
   ]
  },
  {
   "cell_type": "code",
   "execution_count": 9,
   "id": "333a44eb-fcbb-4180-b67a-059e79ee86cc",
   "metadata": {},
   "outputs": [
    {
     "data": {
      "text/plain": [
       "Job Title\n",
       "Sales Executive                                    118\n",
       "PHP Developer                                      117\n",
       "Business Development Executive                     116\n",
       "Business Development Manager                        97\n",
       "Graphic Designer                                    77\n",
       "                                                  ... \n",
       "Business Development / Corporate Sales               1\n",
       "Business Development Manager (BDM)                   1\n",
       "Supply Chain - Import Export Executive               1\n",
       "Back End Java Developer - Restful Services/soap      1\n",
       "AGM - Purchase Automobiles                           1\n",
       "Name: count, Length: 21849, dtype: int64"
      ]
     },
     "execution_count": 9,
     "metadata": {},
     "output_type": "execute_result"
    }
   ],
   "source": [
    "data[\"Job Title\"].value_counts()\n"
   ]
  },
  {
   "cell_type": "code",
   "execution_count": 10,
   "id": "d1a66d90-1176-4af9-9be9-9f77d42e48dc",
   "metadata": {},
   "outputs": [
    {
     "data": {
      "text/plain": [
       "array(['M.Tech', 'BCA', 'PhD', 'MBA', 'MCA', 'M.Com', 'BBA', 'B.Tech',\n",
       "       'B.Com', 'BA'], dtype=object)"
      ]
     },
     "execution_count": 10,
     "metadata": {},
     "output_type": "execute_result"
    }
   ],
   "source": [
    "data[\"Qualifications\"].unique()\n"
   ]
  },
  {
   "cell_type": "code",
   "execution_count": 11,
   "id": "1974782f-fbea-42f8-b669-b7949aba578d",
   "metadata": {},
   "outputs": [
    {
     "data": {
      "text/plain": [
       "array(['5 - 10 yrs', '2 - 5 yrs', '0 - 1 yrs', '0 - 5 yrs', '5 - 7 yrs',\n",
       "       '0 - 0 yrs', '9 - 14 yrs', '2 - 7 yrs', '1 - 5 yrs', '1 - 6 yrs',\n",
       "       '3 - 7 Years', '2 - 4 yrs', '3 - 7 yrs', '0 - 3 yrs', '0 - 4 yrs',\n",
       "       '6 - 8 yrs', '4 - 9 yrs', '3 - 5 yrs', '7 - 12 yrs', '8 - 10 yrs',\n",
       "       '2 - 3 yrs', '15 - 20 yrs', '10 - 16 yrs', '2 - 7 Years',\n",
       "       '1 - 4 yrs', '3 - 6 yrs', '5 - 8 yrs', '8 - 13 yrs', '3 - 8 yrs',\n",
       "       '6 - 10 yrs', '1 - 2 yrs', '6 - 11 yrs', '1 - 3 yrs', '4 - 7 yrs',\n",
       "       '2 - 6 yrs', '8 - 12 yrs', '15 - 22 yrs', '1 - 3 Years',\n",
       "       '4 - 8 yrs', '0 - 2 yrs', '5 - 7 Years', '10 - 15 yrs',\n",
       "       '4 - 5 yrs', '5 - 10 Years', '10 - 14 yrs', '4 - 6 yrs',\n",
       "       '2 - 4 Years', '4 - 9 Years', '6 - 7 yrs', '13 - 15 Years',\n",
       "       '2 - 5 Years', '10 - 20 yrs', '3 - 4 yrs', '12 - 18 yrs',\n",
       "       '6 - 11 Years', '0 - 2 Years', '4 - 7 Years', '10 - 17 yrs',\n",
       "       '7 - 10 yrs', '10 - 12 yrs', '5 - 9 yrs', '3 - 8 Years',\n",
       "       '6 - 9 yrs', '12 - 15 yrs', '12 - 16 yrs', '17 - 27 yrs',\n",
       "       '8 - 12 Years', '20 - 26 yrs', '15 - 18 yrs', '18 - 25 yrs',\n",
       "       '3 - 5 Years', '15 - 17 yrs', '0 - 1 Years', '0 - 4 Years',\n",
       "       '1 - 4 Years', '14 - 19 yrs', '7 - 11 yrs', '4 - 5 Years',\n",
       "       '4 - 6 Years', '12 - 17 yrs', '12 - 20 yrs', '6 - 9 Years',\n",
       "       '7 - 12 Years', '0 Years', '8 - 11 yrs', '8 - 13 Years',\n",
       "       '17 - 18 yrs', '1 - 2 Years', '0 - 3 Years', '0 - 5 Years',\n",
       "       '1 - 5 Years', '14 - 22 yrs', '10 - 18 yrs', '2 - 6 Years',\n",
       "       '5 - 8 Years', '7 - 9 yrs', '11 - 15 yrs', '13 - 17 yrs',\n",
       "       '15 - 25 yrs', '5 - 6 yrs', '10 - 13 yrs', '10 - 15 Years',\n",
       "       '6 - 10 Years', '7 - 8 yrs', '3 - 6 Years', '9 - 12 yrs',\n",
       "       '16 - 20 yrs', '2 - 10 yrs', '8 - 10 Years', '9 - 13 yrs',\n",
       "       '7 - 10 Years', '19 - 28 Years', '9 - 12 Years', '14 - 16 yrs',\n",
       "       '8 - 9 yrs', '0 - 7 yrs', '14 - 24 yrs', '18 - 22 yrs',\n",
       "       '9 - 14 Years', '12 - 14 yrs', '20 - 30 yrs', '15 - 19 yrs',\n",
       "       '13 - 16 yrs', '12 - 22 yrs', '22 - 30 yrs', '10 - 17 Years',\n",
       "       '2 - 8 yrs', '4 - 8 Years', '1 - 6 Years', '16 - 18 yrs',\n",
       "       '12 - 21 yrs', '7 - 11 Years', '8 - 15 yrs', '11 - 13 yrs',\n",
       "       '10 - 12 Years', '12 - 13 yrs', '13 - 18 yrs', '6 - 8 Years',\n",
       "       '14 - 22 Years', '5 - 6 Years', '11 - 21 yrs', '14 - 24 Years',\n",
       "       '15 - 21 yrs', '14 - 20 yrs', '14 - 21 yrs', '1 - 10 yrs',\n",
       "       '9 - 10 Years', '20 - 25 yrs', '6 - 12 yrs', '3 - 12 yrs',\n",
       "       '9 - 11 yrs', '9 - 10 yrs', '0 - 8 yrs', '7 - 9 Years',\n",
       "       '12 - 22 Years', '12 - 18 Years', '1 - 7 yrs', '12 - 15 Years',\n",
       "       '5 - 9 Years', '1 - 1 yrs', '13 - 20 yrs', '18 - 20 yrs',\n",
       "       '18 - 25 Years', '10 - 13 Years', '17 - 25 yrs', '2 - 3 Years',\n",
       "       '11 - 14 yrs', '10 - 20 Years', '14 - 18 yrs', '11 - 18 yrs',\n",
       "       '2 - 2 yrs', '3 - 3 yrs', '12 - 19 Years', '15 - 20 Years',\n",
       "       '9 - 15 yrs', '10 - 18 Years', '11 - 12 yrs', '0 - 6 yrs',\n",
       "       '25 - 30 yrs', '13 - 16 Years', '13 - 15 yrs', '22 - 24 yrs',\n",
       "       '12 - 20 Years', '3 - 10 yrs', '7 - 8 Years', '11 - 16 yrs',\n",
       "       '8 - 9 Years', '11 - 20 yrs', '13 - 20 Years', '0 - 9 yrs',\n",
       "       '3 - 4 Years', '11 - 17 yrs', '14 - 15 yrs', '16 - 24 yrs',\n",
       "       '10 - 19 yrs', '0 - 10 yrs', '13 - 17 Years', '19 - 24 Years',\n",
       "       '2 - 9 yrs', '30 years and above', '13 - 21 yrs', '10 - 14 Years',\n",
       "       '10 - 11 Years', '15 - 23 yrs', '4 - 10 yrs', '16 - 26 yrs',\n",
       "       '15 - 16 yrs', '11 - 12 Years', '15 - 17 Years', '20 - 22 yrs',\n",
       "       '18 - 27 yrs', '12 - 13 Years', '14 - 20 Years', '2 - 12 yrs',\n",
       "       '15 - 24 yrs', '7 - 7 yrs', '10 - 11 yrs', '11 - 20 Years',\n",
       "       '19 - 25 Years', '14 - 17 yrs', '5 - 5 yrs', '13 - 23 yrs',\n",
       "       '10 - 16 Years', '12 - 14 Years', '25 - 25 yrs', '0 - 15 yrs',\n",
       "       '16 - 22 yrs', '15 - 18 Years', '8 - 11 Years', '12 - 17 Years',\n",
       "       '11 - 17 Years', '1 - 8 yrs', '5 - 11 yrs', '17 - 21 yrs',\n",
       "       '9 - 13 Years', '12 - 16 Years', '16 - 21 yrs', '13 - 19 yrs',\n",
       "       '5 - 15 yrs', '25 - 31 yrs', '14 - 18 Years', '15 - 22 Years'],\n",
       "      dtype=object)"
      ]
     },
     "execution_count": 11,
     "metadata": {},
     "output_type": "execute_result"
    }
   ],
   "source": [
    "data[\"Job Experience Required\"].unique()\n"
   ]
  },
  {
   "cell_type": "code",
   "execution_count": 12,
   "id": "166ae226-bc48-46bb-871e-8dee29d6aefe",
   "metadata": {},
   "outputs": [],
   "source": [
    "data['Job Experience Required'] = data['Job Experience Required'].str.replace('Years', 'yrs', regex=False)\n",
    "\n",
    "def calculate_average_experience(experience):\n",
    "    if isinstance(experience, str):\n",
    "        experience = experience.strip().lower()\n",
    "    else:\n",
    "        return np.nan\n",
    "    \n",
    "    if \" - \" in experience:\n",
    "        range_parts = experience.split(\" - \")\n",
    "        min_exp = int(''.join(filter(str.isdigit, range_parts[0]))) if range_parts[0] else np.nan\n",
    "        max_exp = int(''.join(filter(str.isdigit, range_parts[1]))) if range_parts[1] else np.nan\n",
    "        return np.nanmean([min_exp, max_exp])\n",
    "    elif \"years\" in experience or \"yrs\" in experience:\n",
    "        return int(''.join(filter(str.isdigit, experience))) if experience else np.nan\n",
    "    else:\n",
    "        return np.nan\n",
    "\n",
    "Average_Experience = data['Job Experience Required'].apply(calculate_average_experience)\n"
   ]
  },
  {
   "cell_type": "code",
   "execution_count": 13,
   "id": "f5db3730-f85d-43ea-a259-8e35cbb9aad9",
   "metadata": {},
   "outputs": [],
   "source": [
    "\n",
    "def categorize_experience(avg_experience):\n",
    "    if avg_experience <= 1:\n",
    "        return 'Fresher'\n",
    "    elif avg_experience <= 5:\n",
    "        return 'Junior/Mid-level'\n",
    "    elif avg_experience <= 10:\n",
    "        return 'Experienced'\n",
    "    elif avg_experience <= 20:\n",
    "        return 'Senior'\n",
    "    else:\n",
    "        return 'Most Senior'\n",
    "\n",
    "data['Experience Category'] = Average_Experience.apply(categorize_experience)\n"
   ]
  },
  {
   "cell_type": "code",
   "execution_count": 14,
   "id": "f6293c74-96c5-44c9-86d0-f5ae8e6cd97f",
   "metadata": {},
   "outputs": [],
   "source": [
    "data.drop(columns=['Min Salary', 'Max Salary', 'Job Salary', 'Job Experience Required', 'Crawl Timestamp','Uniq Id'], inplace=True)\n"
   ]
  },
  {
   "cell_type": "code",
   "execution_count": 15,
   "id": "71f2dcce-0956-4e52-8a21-15a4eda5baee",
   "metadata": {},
   "outputs": [
    {
     "name": "stdout",
     "output_type": "stream",
     "text": [
      "<class 'pandas.core.frame.DataFrame'>\n",
      "Index: 27005 entries, 0 to 29999\n",
      "Data columns (total 10 columns):\n",
      " #   Column               Non-Null Count  Dtype \n",
      "---  ------               --------------  ----- \n",
      " 0   Job Title            27005 non-null  object\n",
      " 1   Key Skills           27005 non-null  object\n",
      " 2   Role Category        27005 non-null  object\n",
      " 3   Location             27005 non-null  object\n",
      " 4   Functional Area      27005 non-null  object\n",
      " 5   Industry             27005 non-null  object\n",
      " 6   Role                 27005 non-null  object\n",
      " 7   Qualifications       27005 non-null  object\n",
      " 8   Average Salary       27005 non-null  int64 \n",
      " 9   Experience Category  27005 non-null  object\n",
      "dtypes: int64(1), object(9)\n",
      "memory usage: 2.3+ MB\n"
     ]
    }
   ],
   "source": [
    "data.info()"
   ]
  },
  {
   "cell_type": "code",
   "execution_count": 17,
   "id": "e3d3757e-2095-4b13-9197-be8b6907c754",
   "metadata": {},
   "outputs": [
    {
     "name": "stdout",
     "output_type": "stream",
     "text": [
      "Modified file saved successfully!\n"
     ]
    }
   ],
   "source": [
    "data.to_csv(\"modified_jobs.csv\", index=False)\n",
    "\n",
    "print(\"Modified file saved successfully!\")\n"
   ]
  },
  {
   "cell_type": "code",
   "execution_count": null,
   "id": "42845e61-b1a6-4904-b7f8-a4852271d52f",
   "metadata": {},
   "outputs": [],
   "source": []
  }
 ],
 "metadata": {
  "kernelspec": {
   "display_name": "Python 3 (ipykernel)",
   "language": "python",
   "name": "python3"
  },
  "language_info": {
   "codemirror_mode": {
    "name": "ipython",
    "version": 3
   },
   "file_extension": ".py",
   "mimetype": "text/x-python",
   "name": "python",
   "nbconvert_exporter": "python",
   "pygments_lexer": "ipython3",
   "version": "3.12.7"
  },
  "widgets": {
   "application/vnd.jupyter.widget-state+json": {
    "state": {},
    "version_major": 2,
    "version_minor": 0
   }
  }
 },
 "nbformat": 4,
 "nbformat_minor": 5
}
