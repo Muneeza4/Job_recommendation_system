{
 "cells": [
  {
   "cell_type": "code",
   "execution_count": 1,
   "metadata": {},
   "outputs": [],
   "source": [
    "import pandas as pd\n",
    "from ydata_profiling import ProfileReport\n"
   ]
  },
  {
   "cell_type": "code",
   "execution_count": 2,
   "metadata": {},
   "outputs": [],
   "source": [
    "df = pd.read_csv(\"marketing_sample_for_naukri_com-jobs__20190701_20190830__30k_data.csv\")\n"
   ]
  },
  {
   "cell_type": "code",
   "execution_count": 3,
   "metadata": {},
   "outputs": [
    {
     "data": {
      "application/vnd.jupyter.widget-view+json": {
       "model_id": "4af3aa258c8a4de99873fe64b297df3b",
       "version_major": 2,
       "version_minor": 0
      },
      "text/plain": [
       "Summarize dataset:   0%|          | 0/5 [00:00<?, ?it/s]"
      ]
     },
     "metadata": {},
     "output_type": "display_data"
    },
    {
     "data": {
      "application/vnd.jupyter.widget-view+json": {
       "model_id": "0c72b6bac54c44de9991185c3752c4d0",
       "version_major": 2,
       "version_minor": 0
      },
      "text/plain": [
       "Generate report structure:   0%|          | 0/1 [00:00<?, ?it/s]"
      ]
     },
     "metadata": {},
     "output_type": "display_data"
    },
    {
     "data": {
      "application/vnd.jupyter.widget-view+json": {
       "model_id": "7080be07f2454923bd180645476b1e8c",
       "version_major": 2,
       "version_minor": 0
      },
      "text/plain": [
       "Render HTML:   0%|          | 0/1 [00:00<?, ?it/s]"
      ]
     },
     "metadata": {},
     "output_type": "display_data"
    },
    {
     "data": {
      "application/vnd.jupyter.widget-view+json": {
       "model_id": "4b94cdcebff94680a9f9470f1ebf8614",
       "version_major": 2,
       "version_minor": 0
      },
      "text/plain": [
       "Export report to file:   0%|          | 0/1 [00:00<?, ?it/s]"
      ]
     },
     "metadata": {},
     "output_type": "display_data"
    }
   ],
   "source": [
    "profile = ProfileReport(df, title=\"Pandas Profiling Report\")\n",
    "\n",
    "profile.to_file(\"profiling_report.html\")\n"
   ]
  },
  {
   "cell_type": "code",
   "execution_count": 5,
   "metadata": {},
   "outputs": [
    {
     "data": {
      "text/plain": [
       "True"
      ]
     },
     "execution_count": 5,
     "metadata": {},
     "output_type": "execute_result"
    }
   ],
   "source": [
    "import webbrowser\n",
    "\n",
    "webbrowser.open(\"profiling_report.html\")"
   ]
  },
  {
   "cell_type": "code",
   "execution_count": null,
   "metadata": {},
   "outputs": [],
   "source": []
  }
 ],
 "metadata": {
  "kernelspec": {
   "display_name": "Python 3 (ipykernel)",
   "language": "python",
   "name": "python3"
  },
  "language_info": {
   "codemirror_mode": {
    "name": "ipython",
    "version": 3
   },
   "file_extension": ".py",
   "mimetype": "text/x-python",
   "name": "python",
   "nbconvert_exporter": "python",
   "pygments_lexer": "ipython3",
   "version": "3.12.7"
  },
  "widgets": {
   "application/vnd.jupyter.widget-state+json": {
    "state": {
     "0bb8fc3a5aa748b7b04f4d6833fa3c1a": {
      "model_module": "@jupyter-widgets/base",
      "model_module_version": "2.0.0",
      "model_name": "LayoutModel",
      "state": {}
     },
     "0c72b6bac54c44de9991185c3752c4d0": {
      "model_module": "@jupyter-widgets/controls",
      "model_module_version": "2.0.0",
      "model_name": "HBoxModel",
      "state": {
       "children": [
        "IPY_MODEL_8eab3c2b73e04792b89f4844eb011820",
        "IPY_MODEL_e5bfc964c30843619502052b1252f09b",
        "IPY_MODEL_42cc7802455049af828e67b644450d6f"
       ],
       "layout": "IPY_MODEL_2451eed5adf64a0e85a626abbda7582c"
      }
     },
     "15ca002b0f524e22b6c9ee18549772c8": {
      "model_module": "@jupyter-widgets/base",
      "model_module_version": "2.0.0",
      "model_name": "LayoutModel",
      "state": {}
     },
     "1b2573f92ec449668d0f947f4feeb803": {
      "model_module": "@jupyter-widgets/controls",
      "model_module_version": "2.0.0",
      "model_name": "ProgressStyleModel",
      "state": {
       "description_width": ""
      }
     },
     "2451eed5adf64a0e85a626abbda7582c": {
      "model_module": "@jupyter-widgets/base",
      "model_module_version": "2.0.0",
      "model_name": "LayoutModel",
      "state": {}
     },
     "28752eb9567849c8b19a3e575bec0de6": {
      "model_module": "@jupyter-widgets/base",
      "model_module_version": "2.0.0",
      "model_name": "LayoutModel",
      "state": {}
     },
     "2c203001aaa24a3692b8f6c930ba3234": {
      "model_module": "@jupyter-widgets/controls",
      "model_module_version": "2.0.0",
      "model_name": "HTMLModel",
      "state": {
       "layout": "IPY_MODEL_28752eb9567849c8b19a3e575bec0de6",
       "style": "IPY_MODEL_5474bfb8e00a4f90b7c3bc03665276dd",
       "value": "Render HTML: 100%"
      }
     },
     "2e0a0d98fe714ae4ae72acc46dc66d01": {
      "model_module": "@jupyter-widgets/controls",
      "model_module_version": "2.0.0",
      "model_name": "FloatProgressModel",
      "state": {
       "bar_style": "success",
       "layout": "IPY_MODEL_39dbd31487c04c6eb0d6c419ede6c087",
       "max": 1,
       "style": "IPY_MODEL_cfc393d3606e4af4b1f0653a69d8540a",
       "value": 1
      }
     },
     "2f975f6d843b4b9ca620e634a9998408": {
      "model_module": "@jupyter-widgets/base",
      "model_module_version": "2.0.0",
      "model_name": "LayoutModel",
      "state": {}
     },
     "357e5bb44aa9444ca6ceabe370d1fff1": {
      "model_module": "@jupyter-widgets/base",
      "model_module_version": "2.0.0",
      "model_name": "LayoutModel",
      "state": {}
     },
     "39dbd31487c04c6eb0d6c419ede6c087": {
      "model_module": "@jupyter-widgets/base",
      "model_module_version": "2.0.0",
      "model_name": "LayoutModel",
      "state": {}
     },
     "3bbae2f150034bb9bfbb1c710e6f6c3f": {
      "model_module": "@jupyter-widgets/base",
      "model_module_version": "2.0.0",
      "model_name": "LayoutModel",
      "state": {}
     },
     "3c07c5e5aefa4aa0a609bc1fa1c400d0": {
      "model_module": "@jupyter-widgets/controls",
      "model_module_version": "2.0.0",
      "model_name": "HTMLModel",
      "state": {
       "layout": "IPY_MODEL_d44222cc388249158e2d1fc0d5a5455d",
       "style": "IPY_MODEL_7b7b2740c13f45b4834b38c8d20af44c",
       "value": " 1/1 [00:00&lt;00:00, 14.88it/s]"
      }
     },
     "3c81fbb2aec4420099f0024df4c9202c": {
      "model_module": "@jupyter-widgets/controls",
      "model_module_version": "2.0.0",
      "model_name": "HTMLStyleModel",
      "state": {
       "description_width": "",
       "font_size": null,
       "text_color": null
      }
     },
     "42cc7802455049af828e67b644450d6f": {
      "model_module": "@jupyter-widgets/controls",
      "model_module_version": "2.0.0",
      "model_name": "HTMLModel",
      "state": {
       "layout": "IPY_MODEL_357e5bb44aa9444ca6ceabe370d1fff1",
       "style": "IPY_MODEL_5acf8100362a44849561067e99e0542f",
       "value": " 1/1 [00:20&lt;00:00, 20.07s/it]"
      }
     },
     "45f1aa8be3f04fa4992d410449673acb": {
      "model_module": "@jupyter-widgets/controls",
      "model_module_version": "2.0.0",
      "model_name": "FloatProgressModel",
      "state": {
       "bar_style": "success",
       "layout": "IPY_MODEL_88eb5cc8625b41c7ab738d49a5f35b02",
       "max": 5,
       "style": "IPY_MODEL_9eaef2fbf5174b079a5bf31c3952a4e3",
       "value": 5
      }
     },
     "48ddb7eb84fd4004be99052b0f5ff92a": {
      "model_module": "@jupyter-widgets/controls",
      "model_module_version": "2.0.0",
      "model_name": "HTMLStyleModel",
      "state": {
       "description_width": "",
       "font_size": null,
       "text_color": null
      }
     },
     "49762de183424525b53e1a6694199d87": {
      "model_module": "@jupyter-widgets/controls",
      "model_module_version": "2.0.0",
      "model_name": "ProgressStyleModel",
      "state": {
       "description_width": ""
      }
     },
     "4af3aa258c8a4de99873fe64b297df3b": {
      "model_module": "@jupyter-widgets/controls",
      "model_module_version": "2.0.0",
      "model_name": "HBoxModel",
      "state": {
       "children": [
        "IPY_MODEL_cdd827fe022549a0bb47f7f2105e30d4",
        "IPY_MODEL_45f1aa8be3f04fa4992d410449673acb",
        "IPY_MODEL_cff3f490f48a4e3a984fd2a174717b5b"
       ],
       "layout": "IPY_MODEL_f62df9051cfe4c00ac5a394a1fc7eba7"
      }
     },
     "4b94cdcebff94680a9f9470f1ebf8614": {
      "model_module": "@jupyter-widgets/controls",
      "model_module_version": "2.0.0",
      "model_name": "HBoxModel",
      "state": {
       "children": [
        "IPY_MODEL_895f636044764b9b9f8828e8b6fb05c6",
        "IPY_MODEL_2e0a0d98fe714ae4ae72acc46dc66d01",
        "IPY_MODEL_3c07c5e5aefa4aa0a609bc1fa1c400d0"
       ],
       "layout": "IPY_MODEL_9c5ba8edc5c34b85bda5c5c084977601"
      }
     },
     "5474bfb8e00a4f90b7c3bc03665276dd": {
      "model_module": "@jupyter-widgets/controls",
      "model_module_version": "2.0.0",
      "model_name": "HTMLStyleModel",
      "state": {
       "description_width": "",
       "font_size": null,
       "text_color": null
      }
     },
     "586cd3145d10493e98d81b6d9d0fed39": {
      "model_module": "@jupyter-widgets/base",
      "model_module_version": "2.0.0",
      "model_name": "LayoutModel",
      "state": {}
     },
     "5acf8100362a44849561067e99e0542f": {
      "model_module": "@jupyter-widgets/controls",
      "model_module_version": "2.0.0",
      "model_name": "HTMLStyleModel",
      "state": {
       "description_width": "",
       "font_size": null,
       "text_color": null
      }
     },
     "7080be07f2454923bd180645476b1e8c": {
      "model_module": "@jupyter-widgets/controls",
      "model_module_version": "2.0.0",
      "model_name": "HBoxModel",
      "state": {
       "children": [
        "IPY_MODEL_2c203001aaa24a3692b8f6c930ba3234",
        "IPY_MODEL_efaa8b5e62f74e1bb5b345804d5bf272",
        "IPY_MODEL_b6a64d5249dd4199a47e627aab4535de"
       ],
       "layout": "IPY_MODEL_ff49513d695d479abd2b30a09ec237f5"
      }
     },
     "7b7b2740c13f45b4834b38c8d20af44c": {
      "model_module": "@jupyter-widgets/controls",
      "model_module_version": "2.0.0",
      "model_name": "HTMLStyleModel",
      "state": {
       "description_width": "",
       "font_size": null,
       "text_color": null
      }
     },
     "8787d6be8f4b4bb4b857ca1eee3592f9": {
      "model_module": "@jupyter-widgets/base",
      "model_module_version": "2.0.0",
      "model_name": "LayoutModel",
      "state": {}
     },
     "88eb5cc8625b41c7ab738d49a5f35b02": {
      "model_module": "@jupyter-widgets/base",
      "model_module_version": "2.0.0",
      "model_name": "LayoutModel",
      "state": {}
     },
     "895f636044764b9b9f8828e8b6fb05c6": {
      "model_module": "@jupyter-widgets/controls",
      "model_module_version": "2.0.0",
      "model_name": "HTMLModel",
      "state": {
       "layout": "IPY_MODEL_3bbae2f150034bb9bfbb1c710e6f6c3f",
       "style": "IPY_MODEL_3c81fbb2aec4420099f0024df4c9202c",
       "value": "Export report to file: 100%"
      }
     },
     "8eab3c2b73e04792b89f4844eb011820": {
      "model_module": "@jupyter-widgets/controls",
      "model_module_version": "2.0.0",
      "model_name": "HTMLModel",
      "state": {
       "layout": "IPY_MODEL_15ca002b0f524e22b6c9ee18549772c8",
       "style": "IPY_MODEL_edec8d466d7e4c89b6ec22511920a2c5",
       "value": "Generate report structure: 100%"
      }
     },
     "9c5ba8edc5c34b85bda5c5c084977601": {
      "model_module": "@jupyter-widgets/base",
      "model_module_version": "2.0.0",
      "model_name": "LayoutModel",
      "state": {}
     },
     "9eaef2fbf5174b079a5bf31c3952a4e3": {
      "model_module": "@jupyter-widgets/controls",
      "model_module_version": "2.0.0",
      "model_name": "ProgressStyleModel",
      "state": {
       "description_width": ""
      }
     },
     "b35440147f704287b3843df417a985ff": {
      "model_module": "@jupyter-widgets/controls",
      "model_module_version": "2.0.0",
      "model_name": "HTMLStyleModel",
      "state": {
       "description_width": "",
       "font_size": null,
       "text_color": null
      }
     },
     "b6a64d5249dd4199a47e627aab4535de": {
      "model_module": "@jupyter-widgets/controls",
      "model_module_version": "2.0.0",
      "model_name": "HTMLModel",
      "state": {
       "layout": "IPY_MODEL_586cd3145d10493e98d81b6d9d0fed39",
       "style": "IPY_MODEL_b35440147f704287b3843df417a985ff",
       "value": " 1/1 [00:02&lt;00:00,  2.48s/it]"
      }
     },
     "cdd827fe022549a0bb47f7f2105e30d4": {
      "model_module": "@jupyter-widgets/controls",
      "model_module_version": "2.0.0",
      "model_name": "HTMLModel",
      "state": {
       "layout": "IPY_MODEL_f8d4448fccd342d6be2bbd45a195ba60",
       "style": "IPY_MODEL_f1d87251f1fa47fbb49b359c39cb773b",
       "value": "Summarize dataset: 100%"
      }
     },
     "cfc393d3606e4af4b1f0653a69d8540a": {
      "model_module": "@jupyter-widgets/controls",
      "model_module_version": "2.0.0",
      "model_name": "ProgressStyleModel",
      "state": {
       "description_width": ""
      }
     },
     "cff3f490f48a4e3a984fd2a174717b5b": {
      "model_module": "@jupyter-widgets/controls",
      "model_module_version": "2.0.0",
      "model_name": "HTMLModel",
      "state": {
       "layout": "IPY_MODEL_2f975f6d843b4b9ca620e634a9998408",
       "style": "IPY_MODEL_48ddb7eb84fd4004be99052b0f5ff92a",
       "value": " 22/22 [00:09&lt;00:00,  4.22it/s, Completed]"
      }
     },
     "d44222cc388249158e2d1fc0d5a5455d": {
      "model_module": "@jupyter-widgets/base",
      "model_module_version": "2.0.0",
      "model_name": "LayoutModel",
      "state": {}
     },
     "e5bfc964c30843619502052b1252f09b": {
      "model_module": "@jupyter-widgets/controls",
      "model_module_version": "2.0.0",
      "model_name": "FloatProgressModel",
      "state": {
       "bar_style": "success",
       "layout": "IPY_MODEL_8787d6be8f4b4bb4b857ca1eee3592f9",
       "max": 1,
       "style": "IPY_MODEL_49762de183424525b53e1a6694199d87",
       "value": 1
      }
     },
     "edec8d466d7e4c89b6ec22511920a2c5": {
      "model_module": "@jupyter-widgets/controls",
      "model_module_version": "2.0.0",
      "model_name": "HTMLStyleModel",
      "state": {
       "description_width": "",
       "font_size": null,
       "text_color": null
      }
     },
     "efaa8b5e62f74e1bb5b345804d5bf272": {
      "model_module": "@jupyter-widgets/controls",
      "model_module_version": "2.0.0",
      "model_name": "FloatProgressModel",
      "state": {
       "bar_style": "success",
       "layout": "IPY_MODEL_0bb8fc3a5aa748b7b04f4d6833fa3c1a",
       "max": 1,
       "style": "IPY_MODEL_1b2573f92ec449668d0f947f4feeb803",
       "value": 1
      }
     },
     "f1d87251f1fa47fbb49b359c39cb773b": {
      "model_module": "@jupyter-widgets/controls",
      "model_module_version": "2.0.0",
      "model_name": "HTMLStyleModel",
      "state": {
       "description_width": "",
       "font_size": null,
       "text_color": null
      }
     },
     "f62df9051cfe4c00ac5a394a1fc7eba7": {
      "model_module": "@jupyter-widgets/base",
      "model_module_version": "2.0.0",
      "model_name": "LayoutModel",
      "state": {}
     },
     "f8d4448fccd342d6be2bbd45a195ba60": {
      "model_module": "@jupyter-widgets/base",
      "model_module_version": "2.0.0",
      "model_name": "LayoutModel",
      "state": {}
     },
     "ff49513d695d479abd2b30a09ec237f5": {
      "model_module": "@jupyter-widgets/base",
      "model_module_version": "2.0.0",
      "model_name": "LayoutModel",
      "state": {}
     }
    },
    "version_major": 2,
    "version_minor": 0
   }
  }
 },
 "nbformat": 4,
 "nbformat_minor": 4
}
